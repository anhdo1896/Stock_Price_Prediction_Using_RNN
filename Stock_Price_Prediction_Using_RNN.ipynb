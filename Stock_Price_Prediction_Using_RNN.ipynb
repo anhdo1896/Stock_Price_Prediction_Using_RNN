{
  "nbformat": 4,
  "nbformat_minor": 0,
  "metadata": {
    "colab": {
      "provenance": [],
      "gpuType": "T4",
      "authorship_tag": "ABX9TyMohGWmq8w+Ff86mQmHBo5L",
      "include_colab_link": true
    },
    "kernelspec": {
      "name": "python3",
      "display_name": "Python 3"
    },
    "language_info": {
      "name": "python"
    },
    "accelerator": "GPU"
  },
  "cells": [
    {
      "cell_type": "markdown",
      "metadata": {
        "id": "view-in-github",
        "colab_type": "text"
      },
      "source": [
        "<a href=\"https://colab.research.google.com/github/anhdo1896/Stock_Price_Prediction_Using_RNN/blob/main/Stock_Price_Prediction_Using_RNN.ipynb\" target=\"_parent\"><img src=\"https://colab.research.google.com/assets/colab-badge.svg\" alt=\"Open In Colab\"/></a>"
      ]
    },
    {
      "cell_type": "code",
      "execution_count": null,
      "metadata": {
        "colab": {
          "base_uri": "https://localhost:8080/"
        },
        "id": "oMf8bWRHQsoA",
        "outputId": "898d1fb8-5a77-4073-fd3a-f8034351309e"
      },
      "outputs": [
        {
          "output_type": "stream",
          "name": "stdout",
          "text": [
            "2.14.0\n",
            "2.14.0\n",
            "[]\n"
          ]
        }
      ],
      "source": [
        "# Python ≥3.5 is required\n",
        "import sys\n",
        "assert sys.version_info >= (3, 5)\n",
        "\n",
        "# Scikit-Learn ≥0.20 is required\n",
        "import sklearn\n",
        "assert sklearn.__version__ >= \"0.20\"\n",
        "\n",
        "\n",
        "# Common imports\n",
        "import numpy as np\n",
        "import os, time\n",
        "import pandas as pd\n",
        "import pandas_datareader as pdr\n",
        "import datetime as dt\n",
        "import yfinance as yf\n",
        "yf.pdr_override()\n",
        "\n",
        "# Deep Learning imports\n",
        "import tensorflow as tf\n",
        "import keras\n",
        "\n",
        "# To plot nice figures\n",
        "%matplotlib inline\n",
        "import matplotlib as mpl\n",
        "import matplotlib.pyplot as plt\n",
        "mpl.rc('axes', labelsize=14)\n",
        "mpl.rc('xtick', labelsize=12)\n",
        "mpl.rc('ytick', labelsize=12)\n",
        "mpl.rc('figure', dpi=100)\n",
        "import seaborn as sns; sns.set()\n",
        "\n",
        "# Check the versions are OK (both should be 2 or more)\n",
        "print(tf.__version__)\n",
        "print(keras.__version__)\n",
        "print(tf.config.list_physical_devices('GPU'))"
      ]
    },
    {
      "cell_type": "code",
      "source": [
        "company = 'GOOG'\n",
        "startdate = dt.datetime(2012, 1, 1)\n",
        "enddate = dt.datetime(2024, 1, 1)\n",
        "data = yf.download(company, start=startdate, end=enddate)"
      ],
      "metadata": {
        "colab": {
          "base_uri": "https://localhost:8080/"
        },
        "id": "boUnf5KTRVtl",
        "outputId": "86f5df5c-20e9-4739-f359-66ad5a993184"
      },
      "execution_count": null,
      "outputs": [
        {
          "output_type": "stream",
          "name": "stdout",
          "text": [
            "\r[*********************100%%**********************]  1 of 1 completed\n"
          ]
        }
      ]
    },
    {
      "cell_type": "code",
      "source": [
        "data.head()"
      ],
      "metadata": {
        "colab": {
          "base_uri": "https://localhost:8080/",
          "height": 237
        },
        "id": "GlS30JIWJKYS",
        "outputId": "fbf71625-d6a4-4f2d-d7d3-305fffda7433"
      },
      "execution_count": null,
      "outputs": [
        {
          "output_type": "execute_result",
          "data": {
            "text/plain": [
              "                 Open       High        Low      Close  Adj Close     Volume\n",
              "Date                                                                        \n",
              "2012-01-03  16.262545  16.641375  16.248346  16.573130  16.573130  147611217\n",
              "2012-01-04  16.563665  16.693678  16.453827  16.644611  16.644611  114989399\n",
              "2012-01-05  16.491436  16.537264  16.344486  16.413727  16.413727  131808205\n",
              "2012-01-06  16.417213  16.438385  16.184088  16.189817  16.189817  108119746\n",
              "2012-01-09  16.102144  16.114599  15.472754  15.503389  15.503389  233776981"
            ],
            "text/html": [
              "\n",
              "  <div id=\"df-85d557ac-b395-4671-9f24-87d5ea6a97c4\" class=\"colab-df-container\">\n",
              "    <div>\n",
              "<style scoped>\n",
              "    .dataframe tbody tr th:only-of-type {\n",
              "        vertical-align: middle;\n",
              "    }\n",
              "\n",
              "    .dataframe tbody tr th {\n",
              "        vertical-align: top;\n",
              "    }\n",
              "\n",
              "    .dataframe thead th {\n",
              "        text-align: right;\n",
              "    }\n",
              "</style>\n",
              "<table border=\"1\" class=\"dataframe\">\n",
              "  <thead>\n",
              "    <tr style=\"text-align: right;\">\n",
              "      <th></th>\n",
              "      <th>Open</th>\n",
              "      <th>High</th>\n",
              "      <th>Low</th>\n",
              "      <th>Close</th>\n",
              "      <th>Adj Close</th>\n",
              "      <th>Volume</th>\n",
              "    </tr>\n",
              "    <tr>\n",
              "      <th>Date</th>\n",
              "      <th></th>\n",
              "      <th></th>\n",
              "      <th></th>\n",
              "      <th></th>\n",
              "      <th></th>\n",
              "      <th></th>\n",
              "    </tr>\n",
              "  </thead>\n",
              "  <tbody>\n",
              "    <tr>\n",
              "      <th>2012-01-03</th>\n",
              "      <td>16.262545</td>\n",
              "      <td>16.641375</td>\n",
              "      <td>16.248346</td>\n",
              "      <td>16.573130</td>\n",
              "      <td>16.573130</td>\n",
              "      <td>147611217</td>\n",
              "    </tr>\n",
              "    <tr>\n",
              "      <th>2012-01-04</th>\n",
              "      <td>16.563665</td>\n",
              "      <td>16.693678</td>\n",
              "      <td>16.453827</td>\n",
              "      <td>16.644611</td>\n",
              "      <td>16.644611</td>\n",
              "      <td>114989399</td>\n",
              "    </tr>\n",
              "    <tr>\n",
              "      <th>2012-01-05</th>\n",
              "      <td>16.491436</td>\n",
              "      <td>16.537264</td>\n",
              "      <td>16.344486</td>\n",
              "      <td>16.413727</td>\n",
              "      <td>16.413727</td>\n",
              "      <td>131808205</td>\n",
              "    </tr>\n",
              "    <tr>\n",
              "      <th>2012-01-06</th>\n",
              "      <td>16.417213</td>\n",
              "      <td>16.438385</td>\n",
              "      <td>16.184088</td>\n",
              "      <td>16.189817</td>\n",
              "      <td>16.189817</td>\n",
              "      <td>108119746</td>\n",
              "    </tr>\n",
              "    <tr>\n",
              "      <th>2012-01-09</th>\n",
              "      <td>16.102144</td>\n",
              "      <td>16.114599</td>\n",
              "      <td>15.472754</td>\n",
              "      <td>15.503389</td>\n",
              "      <td>15.503389</td>\n",
              "      <td>233776981</td>\n",
              "    </tr>\n",
              "  </tbody>\n",
              "</table>\n",
              "</div>\n",
              "    <div class=\"colab-df-buttons\">\n",
              "\n",
              "  <div class=\"colab-df-container\">\n",
              "    <button class=\"colab-df-convert\" onclick=\"convertToInteractive('df-85d557ac-b395-4671-9f24-87d5ea6a97c4')\"\n",
              "            title=\"Convert this dataframe to an interactive table.\"\n",
              "            style=\"display:none;\">\n",
              "\n",
              "  <svg xmlns=\"http://www.w3.org/2000/svg\" height=\"24px\" viewBox=\"0 -960 960 960\">\n",
              "    <path d=\"M120-120v-720h720v720H120Zm60-500h600v-160H180v160Zm220 220h160v-160H400v160Zm0 220h160v-160H400v160ZM180-400h160v-160H180v160Zm440 0h160v-160H620v160ZM180-180h160v-160H180v160Zm440 0h160v-160H620v160Z\"/>\n",
              "  </svg>\n",
              "    </button>\n",
              "\n",
              "  <style>\n",
              "    .colab-df-container {\n",
              "      display:flex;\n",
              "      gap: 12px;\n",
              "    }\n",
              "\n",
              "    .colab-df-convert {\n",
              "      background-color: #E8F0FE;\n",
              "      border: none;\n",
              "      border-radius: 50%;\n",
              "      cursor: pointer;\n",
              "      display: none;\n",
              "      fill: #1967D2;\n",
              "      height: 32px;\n",
              "      padding: 0 0 0 0;\n",
              "      width: 32px;\n",
              "    }\n",
              "\n",
              "    .colab-df-convert:hover {\n",
              "      background-color: #E2EBFA;\n",
              "      box-shadow: 0px 1px 2px rgba(60, 64, 67, 0.3), 0px 1px 3px 1px rgba(60, 64, 67, 0.15);\n",
              "      fill: #174EA6;\n",
              "    }\n",
              "\n",
              "    .colab-df-buttons div {\n",
              "      margin-bottom: 4px;\n",
              "    }\n",
              "\n",
              "    [theme=dark] .colab-df-convert {\n",
              "      background-color: #3B4455;\n",
              "      fill: #D2E3FC;\n",
              "    }\n",
              "\n",
              "    [theme=dark] .colab-df-convert:hover {\n",
              "      background-color: #434B5C;\n",
              "      box-shadow: 0px 1px 3px 1px rgba(0, 0, 0, 0.15);\n",
              "      filter: drop-shadow(0px 1px 2px rgba(0, 0, 0, 0.3));\n",
              "      fill: #FFFFFF;\n",
              "    }\n",
              "  </style>\n",
              "\n",
              "    <script>\n",
              "      const buttonEl =\n",
              "        document.querySelector('#df-85d557ac-b395-4671-9f24-87d5ea6a97c4 button.colab-df-convert');\n",
              "      buttonEl.style.display =\n",
              "        google.colab.kernel.accessAllowed ? 'block' : 'none';\n",
              "\n",
              "      async function convertToInteractive(key) {\n",
              "        const element = document.querySelector('#df-85d557ac-b395-4671-9f24-87d5ea6a97c4');\n",
              "        const dataTable =\n",
              "          await google.colab.kernel.invokeFunction('convertToInteractive',\n",
              "                                                    [key], {});\n",
              "        if (!dataTable) return;\n",
              "\n",
              "        const docLinkHtml = 'Like what you see? Visit the ' +\n",
              "          '<a target=\"_blank\" href=https://colab.research.google.com/notebooks/data_table.ipynb>data table notebook</a>'\n",
              "          + ' to learn more about interactive tables.';\n",
              "        element.innerHTML = '';\n",
              "        dataTable['output_type'] = 'display_data';\n",
              "        await google.colab.output.renderOutput(dataTable, element);\n",
              "        const docLink = document.createElement('div');\n",
              "        docLink.innerHTML = docLinkHtml;\n",
              "        element.appendChild(docLink);\n",
              "      }\n",
              "    </script>\n",
              "  </div>\n",
              "\n",
              "\n",
              "<div id=\"df-a52d0882-8726-4c3c-b405-0404da0b3131\">\n",
              "  <button class=\"colab-df-quickchart\" onclick=\"quickchart('df-a52d0882-8726-4c3c-b405-0404da0b3131')\"\n",
              "            title=\"Suggest charts.\"\n",
              "            style=\"display:none;\">\n",
              "\n",
              "<svg xmlns=\"http://www.w3.org/2000/svg\" height=\"24px\"viewBox=\"0 0 24 24\"\n",
              "     width=\"24px\">\n",
              "    <g>\n",
              "        <path d=\"M19 3H5c-1.1 0-2 .9-2 2v14c0 1.1.9 2 2 2h14c1.1 0 2-.9 2-2V5c0-1.1-.9-2-2-2zM9 17H7v-7h2v7zm4 0h-2V7h2v10zm4 0h-2v-4h2v4z\"/>\n",
              "    </g>\n",
              "</svg>\n",
              "  </button>\n",
              "\n",
              "<style>\n",
              "  .colab-df-quickchart {\n",
              "      --bg-color: #E8F0FE;\n",
              "      --fill-color: #1967D2;\n",
              "      --hover-bg-color: #E2EBFA;\n",
              "      --hover-fill-color: #174EA6;\n",
              "      --disabled-fill-color: #AAA;\n",
              "      --disabled-bg-color: #DDD;\n",
              "  }\n",
              "\n",
              "  [theme=dark] .colab-df-quickchart {\n",
              "      --bg-color: #3B4455;\n",
              "      --fill-color: #D2E3FC;\n",
              "      --hover-bg-color: #434B5C;\n",
              "      --hover-fill-color: #FFFFFF;\n",
              "      --disabled-bg-color: #3B4455;\n",
              "      --disabled-fill-color: #666;\n",
              "  }\n",
              "\n",
              "  .colab-df-quickchart {\n",
              "    background-color: var(--bg-color);\n",
              "    border: none;\n",
              "    border-radius: 50%;\n",
              "    cursor: pointer;\n",
              "    display: none;\n",
              "    fill: var(--fill-color);\n",
              "    height: 32px;\n",
              "    padding: 0;\n",
              "    width: 32px;\n",
              "  }\n",
              "\n",
              "  .colab-df-quickchart:hover {\n",
              "    background-color: var(--hover-bg-color);\n",
              "    box-shadow: 0 1px 2px rgba(60, 64, 67, 0.3), 0 1px 3px 1px rgba(60, 64, 67, 0.15);\n",
              "    fill: var(--button-hover-fill-color);\n",
              "  }\n",
              "\n",
              "  .colab-df-quickchart-complete:disabled,\n",
              "  .colab-df-quickchart-complete:disabled:hover {\n",
              "    background-color: var(--disabled-bg-color);\n",
              "    fill: var(--disabled-fill-color);\n",
              "    box-shadow: none;\n",
              "  }\n",
              "\n",
              "  .colab-df-spinner {\n",
              "    border: 2px solid var(--fill-color);\n",
              "    border-color: transparent;\n",
              "    border-bottom-color: var(--fill-color);\n",
              "    animation:\n",
              "      spin 1s steps(1) infinite;\n",
              "  }\n",
              "\n",
              "  @keyframes spin {\n",
              "    0% {\n",
              "      border-color: transparent;\n",
              "      border-bottom-color: var(--fill-color);\n",
              "      border-left-color: var(--fill-color);\n",
              "    }\n",
              "    20% {\n",
              "      border-color: transparent;\n",
              "      border-left-color: var(--fill-color);\n",
              "      border-top-color: var(--fill-color);\n",
              "    }\n",
              "    30% {\n",
              "      border-color: transparent;\n",
              "      border-left-color: var(--fill-color);\n",
              "      border-top-color: var(--fill-color);\n",
              "      border-right-color: var(--fill-color);\n",
              "    }\n",
              "    40% {\n",
              "      border-color: transparent;\n",
              "      border-right-color: var(--fill-color);\n",
              "      border-top-color: var(--fill-color);\n",
              "    }\n",
              "    60% {\n",
              "      border-color: transparent;\n",
              "      border-right-color: var(--fill-color);\n",
              "    }\n",
              "    80% {\n",
              "      border-color: transparent;\n",
              "      border-right-color: var(--fill-color);\n",
              "      border-bottom-color: var(--fill-color);\n",
              "    }\n",
              "    90% {\n",
              "      border-color: transparent;\n",
              "      border-bottom-color: var(--fill-color);\n",
              "    }\n",
              "  }\n",
              "</style>\n",
              "\n",
              "  <script>\n",
              "    async function quickchart(key) {\n",
              "      const quickchartButtonEl =\n",
              "        document.querySelector('#' + key + ' button');\n",
              "      quickchartButtonEl.disabled = true;  // To prevent multiple clicks.\n",
              "      quickchartButtonEl.classList.add('colab-df-spinner');\n",
              "      try {\n",
              "        const charts = await google.colab.kernel.invokeFunction(\n",
              "            'suggestCharts', [key], {});\n",
              "      } catch (error) {\n",
              "        console.error('Error during call to suggestCharts:', error);\n",
              "      }\n",
              "      quickchartButtonEl.classList.remove('colab-df-spinner');\n",
              "      quickchartButtonEl.classList.add('colab-df-quickchart-complete');\n",
              "    }\n",
              "    (() => {\n",
              "      let quickchartButtonEl =\n",
              "        document.querySelector('#df-a52d0882-8726-4c3c-b405-0404da0b3131 button');\n",
              "      quickchartButtonEl.style.display =\n",
              "        google.colab.kernel.accessAllowed ? 'block' : 'none';\n",
              "    })();\n",
              "  </script>\n",
              "</div>\n",
              "    </div>\n",
              "  </div>\n"
            ]
          },
          "metadata": {},
          "execution_count": 3
        }
      ]
    },
    {
      "cell_type": "code",
      "source": [
        "data.info()"
      ],
      "metadata": {
        "colab": {
          "base_uri": "https://localhost:8080/"
        },
        "id": "QlqFMRG-Jj-5",
        "outputId": "0eb06a20-0f8b-4975-f6e7-0dc47be07653"
      },
      "execution_count": null,
      "outputs": [
        {
          "output_type": "stream",
          "name": "stdout",
          "text": [
            "<class 'pandas.core.frame.DataFrame'>\n",
            "DatetimeIndex: 2979 entries, 2012-01-03 to 2023-11-02\n",
            "Data columns (total 6 columns):\n",
            " #   Column     Non-Null Count  Dtype  \n",
            "---  ------     --------------  -----  \n",
            " 0   Open       2979 non-null   float64\n",
            " 1   High       2979 non-null   float64\n",
            " 2   Low        2979 non-null   float64\n",
            " 3   Close      2979 non-null   float64\n",
            " 4   Adj Close  2979 non-null   float64\n",
            " 5   Volume     2979 non-null   int64  \n",
            "dtypes: float64(5), int64(1)\n",
            "memory usage: 162.9 KB\n"
          ]
        }
      ]
    },
    {
      "cell_type": "code",
      "source": [
        "data.describe()"
      ],
      "metadata": {
        "colab": {
          "base_uri": "https://localhost:8080/",
          "height": 320
        },
        "id": "lWDQsqGZJpcC",
        "outputId": "7200ae66-7f6e-43e6-e4af-97b20fe2f3b5"
      },
      "execution_count": null,
      "outputs": [
        {
          "output_type": "execute_result",
          "data": {
            "text/plain": [
              "              Open         High          Low        Close    Adj Close  \\\n",
              "count  2979.000000  2979.000000  2979.000000  2979.000000  2979.000000   \n",
              "mean     59.703377    60.333019    59.109570    59.734196    59.734196   \n",
              "std      38.092274    38.559025    37.670674    38.114791    38.114791   \n",
              "min      13.956189    14.060299    13.861045    13.924059    13.924059   \n",
              "25%      28.053786    28.305882    27.821790    27.998970    27.998970   \n",
              "50%      50.950001    51.632500    50.402500    51.000000    51.000000   \n",
              "75%      86.637249    87.725250    85.875500    86.767250    86.767250   \n",
              "max     151.863495   152.100006   149.887497   150.709000   150.709000   \n",
              "\n",
              "             Volume  \n",
              "count  2.979000e+03  \n",
              "mean   4.411616e+07  \n",
              "std    3.519773e+07  \n",
              "min    1.584340e+05  \n",
              "25%    2.431600e+07  \n",
              "50%    3.193800e+07  \n",
              "75%    5.142400e+07  \n",
              "max    4.995615e+08  "
            ],
            "text/html": [
              "\n",
              "  <div id=\"df-ac093cd5-f001-4b67-a1dc-cf63e5271b0e\" class=\"colab-df-container\">\n",
              "    <div>\n",
              "<style scoped>\n",
              "    .dataframe tbody tr th:only-of-type {\n",
              "        vertical-align: middle;\n",
              "    }\n",
              "\n",
              "    .dataframe tbody tr th {\n",
              "        vertical-align: top;\n",
              "    }\n",
              "\n",
              "    .dataframe thead th {\n",
              "        text-align: right;\n",
              "    }\n",
              "</style>\n",
              "<table border=\"1\" class=\"dataframe\">\n",
              "  <thead>\n",
              "    <tr style=\"text-align: right;\">\n",
              "      <th></th>\n",
              "      <th>Open</th>\n",
              "      <th>High</th>\n",
              "      <th>Low</th>\n",
              "      <th>Close</th>\n",
              "      <th>Adj Close</th>\n",
              "      <th>Volume</th>\n",
              "    </tr>\n",
              "  </thead>\n",
              "  <tbody>\n",
              "    <tr>\n",
              "      <th>count</th>\n",
              "      <td>2979.000000</td>\n",
              "      <td>2979.000000</td>\n",
              "      <td>2979.000000</td>\n",
              "      <td>2979.000000</td>\n",
              "      <td>2979.000000</td>\n",
              "      <td>2.979000e+03</td>\n",
              "    </tr>\n",
              "    <tr>\n",
              "      <th>mean</th>\n",
              "      <td>59.703377</td>\n",
              "      <td>60.333019</td>\n",
              "      <td>59.109570</td>\n",
              "      <td>59.734196</td>\n",
              "      <td>59.734196</td>\n",
              "      <td>4.411616e+07</td>\n",
              "    </tr>\n",
              "    <tr>\n",
              "      <th>std</th>\n",
              "      <td>38.092274</td>\n",
              "      <td>38.559025</td>\n",
              "      <td>37.670674</td>\n",
              "      <td>38.114791</td>\n",
              "      <td>38.114791</td>\n",
              "      <td>3.519773e+07</td>\n",
              "    </tr>\n",
              "    <tr>\n",
              "      <th>min</th>\n",
              "      <td>13.956189</td>\n",
              "      <td>14.060299</td>\n",
              "      <td>13.861045</td>\n",
              "      <td>13.924059</td>\n",
              "      <td>13.924059</td>\n",
              "      <td>1.584340e+05</td>\n",
              "    </tr>\n",
              "    <tr>\n",
              "      <th>25%</th>\n",
              "      <td>28.053786</td>\n",
              "      <td>28.305882</td>\n",
              "      <td>27.821790</td>\n",
              "      <td>27.998970</td>\n",
              "      <td>27.998970</td>\n",
              "      <td>2.431600e+07</td>\n",
              "    </tr>\n",
              "    <tr>\n",
              "      <th>50%</th>\n",
              "      <td>50.950001</td>\n",
              "      <td>51.632500</td>\n",
              "      <td>50.402500</td>\n",
              "      <td>51.000000</td>\n",
              "      <td>51.000000</td>\n",
              "      <td>3.193800e+07</td>\n",
              "    </tr>\n",
              "    <tr>\n",
              "      <th>75%</th>\n",
              "      <td>86.637249</td>\n",
              "      <td>87.725250</td>\n",
              "      <td>85.875500</td>\n",
              "      <td>86.767250</td>\n",
              "      <td>86.767250</td>\n",
              "      <td>5.142400e+07</td>\n",
              "    </tr>\n",
              "    <tr>\n",
              "      <th>max</th>\n",
              "      <td>151.863495</td>\n",
              "      <td>152.100006</td>\n",
              "      <td>149.887497</td>\n",
              "      <td>150.709000</td>\n",
              "      <td>150.709000</td>\n",
              "      <td>4.995615e+08</td>\n",
              "    </tr>\n",
              "  </tbody>\n",
              "</table>\n",
              "</div>\n",
              "    <div class=\"colab-df-buttons\">\n",
              "\n",
              "  <div class=\"colab-df-container\">\n",
              "    <button class=\"colab-df-convert\" onclick=\"convertToInteractive('df-ac093cd5-f001-4b67-a1dc-cf63e5271b0e')\"\n",
              "            title=\"Convert this dataframe to an interactive table.\"\n",
              "            style=\"display:none;\">\n",
              "\n",
              "  <svg xmlns=\"http://www.w3.org/2000/svg\" height=\"24px\" viewBox=\"0 -960 960 960\">\n",
              "    <path d=\"M120-120v-720h720v720H120Zm60-500h600v-160H180v160Zm220 220h160v-160H400v160Zm0 220h160v-160H400v160ZM180-400h160v-160H180v160Zm440 0h160v-160H620v160ZM180-180h160v-160H180v160Zm440 0h160v-160H620v160Z\"/>\n",
              "  </svg>\n",
              "    </button>\n",
              "\n",
              "  <style>\n",
              "    .colab-df-container {\n",
              "      display:flex;\n",
              "      gap: 12px;\n",
              "    }\n",
              "\n",
              "    .colab-df-convert {\n",
              "      background-color: #E8F0FE;\n",
              "      border: none;\n",
              "      border-radius: 50%;\n",
              "      cursor: pointer;\n",
              "      display: none;\n",
              "      fill: #1967D2;\n",
              "      height: 32px;\n",
              "      padding: 0 0 0 0;\n",
              "      width: 32px;\n",
              "    }\n",
              "\n",
              "    .colab-df-convert:hover {\n",
              "      background-color: #E2EBFA;\n",
              "      box-shadow: 0px 1px 2px rgba(60, 64, 67, 0.3), 0px 1px 3px 1px rgba(60, 64, 67, 0.15);\n",
              "      fill: #174EA6;\n",
              "    }\n",
              "\n",
              "    .colab-df-buttons div {\n",
              "      margin-bottom: 4px;\n",
              "    }\n",
              "\n",
              "    [theme=dark] .colab-df-convert {\n",
              "      background-color: #3B4455;\n",
              "      fill: #D2E3FC;\n",
              "    }\n",
              "\n",
              "    [theme=dark] .colab-df-convert:hover {\n",
              "      background-color: #434B5C;\n",
              "      box-shadow: 0px 1px 3px 1px rgba(0, 0, 0, 0.15);\n",
              "      filter: drop-shadow(0px 1px 2px rgba(0, 0, 0, 0.3));\n",
              "      fill: #FFFFFF;\n",
              "    }\n",
              "  </style>\n",
              "\n",
              "    <script>\n",
              "      const buttonEl =\n",
              "        document.querySelector('#df-ac093cd5-f001-4b67-a1dc-cf63e5271b0e button.colab-df-convert');\n",
              "      buttonEl.style.display =\n",
              "        google.colab.kernel.accessAllowed ? 'block' : 'none';\n",
              "\n",
              "      async function convertToInteractive(key) {\n",
              "        const element = document.querySelector('#df-ac093cd5-f001-4b67-a1dc-cf63e5271b0e');\n",
              "        const dataTable =\n",
              "          await google.colab.kernel.invokeFunction('convertToInteractive',\n",
              "                                                    [key], {});\n",
              "        if (!dataTable) return;\n",
              "\n",
              "        const docLinkHtml = 'Like what you see? Visit the ' +\n",
              "          '<a target=\"_blank\" href=https://colab.research.google.com/notebooks/data_table.ipynb>data table notebook</a>'\n",
              "          + ' to learn more about interactive tables.';\n",
              "        element.innerHTML = '';\n",
              "        dataTable['output_type'] = 'display_data';\n",
              "        await google.colab.output.renderOutput(dataTable, element);\n",
              "        const docLink = document.createElement('div');\n",
              "        docLink.innerHTML = docLinkHtml;\n",
              "        element.appendChild(docLink);\n",
              "      }\n",
              "    </script>\n",
              "  </div>\n",
              "\n",
              "\n",
              "<div id=\"df-65be070a-5eda-4969-828f-aa308f5f6c73\">\n",
              "  <button class=\"colab-df-quickchart\" onclick=\"quickchart('df-65be070a-5eda-4969-828f-aa308f5f6c73')\"\n",
              "            title=\"Suggest charts.\"\n",
              "            style=\"display:none;\">\n",
              "\n",
              "<svg xmlns=\"http://www.w3.org/2000/svg\" height=\"24px\"viewBox=\"0 0 24 24\"\n",
              "     width=\"24px\">\n",
              "    <g>\n",
              "        <path d=\"M19 3H5c-1.1 0-2 .9-2 2v14c0 1.1.9 2 2 2h14c1.1 0 2-.9 2-2V5c0-1.1-.9-2-2-2zM9 17H7v-7h2v7zm4 0h-2V7h2v10zm4 0h-2v-4h2v4z\"/>\n",
              "    </g>\n",
              "</svg>\n",
              "  </button>\n",
              "\n",
              "<style>\n",
              "  .colab-df-quickchart {\n",
              "      --bg-color: #E8F0FE;\n",
              "      --fill-color: #1967D2;\n",
              "      --hover-bg-color: #E2EBFA;\n",
              "      --hover-fill-color: #174EA6;\n",
              "      --disabled-fill-color: #AAA;\n",
              "      --disabled-bg-color: #DDD;\n",
              "  }\n",
              "\n",
              "  [theme=dark] .colab-df-quickchart {\n",
              "      --bg-color: #3B4455;\n",
              "      --fill-color: #D2E3FC;\n",
              "      --hover-bg-color: #434B5C;\n",
              "      --hover-fill-color: #FFFFFF;\n",
              "      --disabled-bg-color: #3B4455;\n",
              "      --disabled-fill-color: #666;\n",
              "  }\n",
              "\n",
              "  .colab-df-quickchart {\n",
              "    background-color: var(--bg-color);\n",
              "    border: none;\n",
              "    border-radius: 50%;\n",
              "    cursor: pointer;\n",
              "    display: none;\n",
              "    fill: var(--fill-color);\n",
              "    height: 32px;\n",
              "    padding: 0;\n",
              "    width: 32px;\n",
              "  }\n",
              "\n",
              "  .colab-df-quickchart:hover {\n",
              "    background-color: var(--hover-bg-color);\n",
              "    box-shadow: 0 1px 2px rgba(60, 64, 67, 0.3), 0 1px 3px 1px rgba(60, 64, 67, 0.15);\n",
              "    fill: var(--button-hover-fill-color);\n",
              "  }\n",
              "\n",
              "  .colab-df-quickchart-complete:disabled,\n",
              "  .colab-df-quickchart-complete:disabled:hover {\n",
              "    background-color: var(--disabled-bg-color);\n",
              "    fill: var(--disabled-fill-color);\n",
              "    box-shadow: none;\n",
              "  }\n",
              "\n",
              "  .colab-df-spinner {\n",
              "    border: 2px solid var(--fill-color);\n",
              "    border-color: transparent;\n",
              "    border-bottom-color: var(--fill-color);\n",
              "    animation:\n",
              "      spin 1s steps(1) infinite;\n",
              "  }\n",
              "\n",
              "  @keyframes spin {\n",
              "    0% {\n",
              "      border-color: transparent;\n",
              "      border-bottom-color: var(--fill-color);\n",
              "      border-left-color: var(--fill-color);\n",
              "    }\n",
              "    20% {\n",
              "      border-color: transparent;\n",
              "      border-left-color: var(--fill-color);\n",
              "      border-top-color: var(--fill-color);\n",
              "    }\n",
              "    30% {\n",
              "      border-color: transparent;\n",
              "      border-left-color: var(--fill-color);\n",
              "      border-top-color: var(--fill-color);\n",
              "      border-right-color: var(--fill-color);\n",
              "    }\n",
              "    40% {\n",
              "      border-color: transparent;\n",
              "      border-right-color: var(--fill-color);\n",
              "      border-top-color: var(--fill-color);\n",
              "    }\n",
              "    60% {\n",
              "      border-color: transparent;\n",
              "      border-right-color: var(--fill-color);\n",
              "    }\n",
              "    80% {\n",
              "      border-color: transparent;\n",
              "      border-right-color: var(--fill-color);\n",
              "      border-bottom-color: var(--fill-color);\n",
              "    }\n",
              "    90% {\n",
              "      border-color: transparent;\n",
              "      border-bottom-color: var(--fill-color);\n",
              "    }\n",
              "  }\n",
              "</style>\n",
              "\n",
              "  <script>\n",
              "    async function quickchart(key) {\n",
              "      const quickchartButtonEl =\n",
              "        document.querySelector('#' + key + ' button');\n",
              "      quickchartButtonEl.disabled = true;  // To prevent multiple clicks.\n",
              "      quickchartButtonEl.classList.add('colab-df-spinner');\n",
              "      try {\n",
              "        const charts = await google.colab.kernel.invokeFunction(\n",
              "            'suggestCharts', [key], {});\n",
              "      } catch (error) {\n",
              "        console.error('Error during call to suggestCharts:', error);\n",
              "      }\n",
              "      quickchartButtonEl.classList.remove('colab-df-spinner');\n",
              "      quickchartButtonEl.classList.add('colab-df-quickchart-complete');\n",
              "    }\n",
              "    (() => {\n",
              "      let quickchartButtonEl =\n",
              "        document.querySelector('#df-65be070a-5eda-4969-828f-aa308f5f6c73 button');\n",
              "      quickchartButtonEl.style.display =\n",
              "        google.colab.kernel.accessAllowed ? 'block' : 'none';\n",
              "    })();\n",
              "  </script>\n",
              "</div>\n",
              "    </div>\n",
              "  </div>\n"
            ]
          },
          "metadata": {},
          "execution_count": 5
        }
      ]
    },
    {
      "cell_type": "code",
      "source": [
        "data.columns"
      ],
      "metadata": {
        "colab": {
          "base_uri": "https://localhost:8080/"
        },
        "id": "2K3VFQdbJt5L",
        "outputId": "5e6076bb-0fb8-4e7a-e24e-fadf3619380a"
      },
      "execution_count": null,
      "outputs": [
        {
          "output_type": "execute_result",
          "data": {
            "text/plain": [
              "Index(['Open', 'High', 'Low', 'Close', 'Adj Close', 'Volume'], dtype='object')"
            ]
          },
          "metadata": {},
          "execution_count": 6
        }
      ]
    },
    {
      "cell_type": "code",
      "source": [
        "data.shape"
      ],
      "metadata": {
        "colab": {
          "base_uri": "https://localhost:8080/"
        },
        "id": "5riDwrwSKDOd",
        "outputId": "8cdb9ee5-28d4-4e37-8523-7a9d5dfa9880"
      },
      "execution_count": null,
      "outputs": [
        {
          "output_type": "execute_result",
          "data": {
            "text/plain": [
              "(2979, 6)"
            ]
          },
          "metadata": {},
          "execution_count": 7
        }
      ]
    },
    {
      "cell_type": "code",
      "source": [
        "data.isnull().sum()"
      ],
      "metadata": {
        "colab": {
          "base_uri": "https://localhost:8080/"
        },
        "id": "PUD81AADKI3t",
        "outputId": "fadb8f87-9977-48d7-9dfe-a8238f881ea4"
      },
      "execution_count": null,
      "outputs": [
        {
          "output_type": "execute_result",
          "data": {
            "text/plain": [
              "Open         0\n",
              "High         0\n",
              "Low          0\n",
              "Close        0\n",
              "Adj Close    0\n",
              "Volume       0\n",
              "dtype: int64"
            ]
          },
          "metadata": {},
          "execution_count": 8
        }
      ]
    },
    {
      "cell_type": "code",
      "source": [
        "data.dtypes"
      ],
      "metadata": {
        "colab": {
          "base_uri": "https://localhost:8080/"
        },
        "id": "Q0yC_rK6KQ7a",
        "outputId": "a7047d24-95a0-46a5-f1a1-01e31266a993"
      },
      "execution_count": null,
      "outputs": [
        {
          "output_type": "execute_result",
          "data": {
            "text/plain": [
              "Open         float64\n",
              "High         float64\n",
              "Low          float64\n",
              "Close        float64\n",
              "Adj Close    float64\n",
              "Volume         int64\n",
              "dtype: object"
            ]
          },
          "metadata": {},
          "execution_count": 9
        }
      ]
    },
    {
      "cell_type": "code",
      "source": [
        "data = data.loc[:,[\"Open\"]].values\n",
        "data = data.reshape(data.shape[0],1)"
      ],
      "metadata": {
        "id": "348fmtd5Klz9"
      },
      "execution_count": null,
      "outputs": []
    },
    {
      "cell_type": "code",
      "source": [
        "plt.plot(data);\n",
        "plt.title(\"Opening prices for the data\");\n",
        "plt.xlabel(\"Days \")\n",
        "plt.ylabel(\"Open Price\")\n",
        "plt.show()"
      ],
      "metadata": {
        "colab": {
          "base_uri": "https://localhost:8080/",
          "height": 480
        },
        "id": "WkyBLII3KsK0",
        "outputId": "60f2ea0c-a5fd-4c62-b5f8-9b352d906edc"
      },
      "execution_count": null,
      "outputs": [
        {
          "output_type": "display_data",
          "data": {
            "text/plain": [
              "<Figure size 640x480 with 1 Axes>"
            ],
            "image/png": "[encoded data removed]"
          },
          "metadata": {}
        }
      ]
    },
    {
      "cell_type": "markdown",
      "source": [
        "#Normalization / Feature Scaling"
      ],
      "metadata": {
        "id": "cLbmUVw7K23o"
      }
    },
    {
      "cell_type": "code",
      "source": [
        "from sklearn.preprocessing import MinMaxScaler\n",
        "# split data in 80%/10%/10% train/validation/test sets\n",
        "valid_set_size_percentage = 10\n",
        "test_set_size_percentage = 10\n",
        "\n",
        "# function for min-max normalization of stock\n",
        "def normalize_data(df):\n",
        "    min_max_scaler = MinMaxScaler()\n",
        "    df = min_max_scaler.fit_transform(df.reshape(-1,1))\n",
        "\n",
        "    return df, min_max_scaler\n",
        "\n",
        "def load_data(stock, seq_len):\n",
        "    data = []\n",
        "\n",
        "    # create all possible sequences of length seq_len\n",
        "    for index in range(len(stock) - seq_len):\n",
        "        data.append(stock[index: index + seq_len])\n",
        "\n",
        "    data = np.array(data);\n",
        "    valid_set_size = int(np.round(valid_set_size_percentage/100*data.shape[0]));\n",
        "    test_set_size = int(np.round(test_set_size_percentage/100*data.shape[0]));\n",
        "    train_set_size = data.shape[0] - (valid_set_size + test_set_size);\n",
        "\n",
        "    train = stock[:train_set_size]\n",
        "    valid = stock[train_set_size:train_set_size+valid_set_size]\n",
        "    test = stock[train_set_size+valid_set_size:]\n",
        "\n",
        "    x_train = data[:train_set_size,:-1,:]\n",
        "    y_train = data[:train_set_size,-1,:]\n",
        "\n",
        "    x_valid = data[train_set_size:train_set_size+valid_set_size,:-1,:]\n",
        "    y_valid = data[train_set_size:train_set_size+valid_set_size,-1,:]\n",
        "\n",
        "    x_test = data[train_set_size+valid_set_size:,:-1,:]\n",
        "    y_test = data[train_set_size+valid_set_size:,-1,:]\n",
        "\n",
        "    return [x_train, y_train, x_valid, y_valid, x_test, y_test, train ,valid, test]"
      ],
      "metadata": {
        "id": "0AnrCsssK108"
      },
      "execution_count": null,
      "outputs": []
    },
    {
      "cell_type": "code",
      "source": [
        "# normalize stock\n",
        "df_norm = data.copy()\n",
        "df_norm, min_max_scaler = normalize_data(df_norm)\n",
        "\n",
        "plt.plot(df_norm)\n",
        "plt.xlabel(\"Days\")\n",
        "plt.ylabel(\"Open Price\")\n",
        "plt.title(\"Stock price after scaling\")\n",
        "plt.show()"
      ],
      "metadata": {
        "colab": {
          "base_uri": "https://localhost:8080/",
          "height": 480
        },
        "id": "yG9YM_qnjrgI",
        "outputId": "27d45047-de53-4a79-b715-508fc75dac36"
      },
      "execution_count": null,
      "outputs": [
        {
          "output_type": "display_data",
          "data": {
            "text/plain": [
              "<Figure size 640x480 with 1 Axes>"
            ],
            "image/png": "[encoded data removed]"
          },
          "metadata": {}
        }
      ]
    },
    {
      "cell_type": "markdown",
      "source": [
        "# Creating X_train and y_train from scaled Train data"
      ],
      "metadata": {
        "id": "o-wQdUkKLT1K"
      }
    },
    {
      "cell_type": "code",
      "source": [
        "# create train, test data\n",
        "seq_len = 20 # choose sequence length\n",
        "X_train, y_train, X_valid, y_valid,X_test, y_test , train,valid, test = load_data(df_norm, seq_len)\n",
        "print('x_train.shape = ',X_train.shape)\n",
        "print('y_train.shape = ', y_train.shape)\n",
        "print('X_valid.shape = ',X_valid.shape)\n",
        "print('y_valid.shape = ', y_valid.shape)\n",
        "print('X_test.shape = ', X_test.shape)\n",
        "print('y_test.shape = ',y_test.shape)"
      ],
      "metadata": {
        "id": "iC66WCbULQY3",
        "colab": {
          "base_uri": "https://localhost:8080/"
        },
        "outputId": "0df4f3b9-83a0-498e-eb68-7b51ab4da61c"
      },
      "execution_count": null,
      "outputs": [
        {
          "output_type": "stream",
          "name": "stdout",
          "text": [
            "x_train.shape =  (2367, 19, 1)\n",
            "y_train.shape =  (2367, 1)\n",
            "X_valid.shape =  (296, 19, 1)\n",
            "y_valid.shape =  (296, 1)\n",
            "X_test.shape =  (296, 19, 1)\n",
            "y_test.shape =  (296, 1)\n"
          ]
        }
      ]
    },
    {
      "cell_type": "markdown",
      "source": [
        "# Creating RNN model"
      ],
      "metadata": {
        "id": "m-da8nuCmO77"
      }
    },
    {
      "cell_type": "code",
      "source": [
        "# --- RNN ---\n",
        "from keras.models import Sequential\n",
        "from keras.layers import Dense\n",
        "from keras.layers import SimpleRNN\n",
        "from keras.layers import Dropout\n",
        "\n",
        "model = Sequential()\n",
        "\n",
        "# Adding the first RNN layer and Dropout regularisation\n",
        "model.add(SimpleRNN(units = 50,activation='tanh', return_sequences = True, input_shape = (X_train.shape[1], 1)))\n",
        "model.add(Dropout(0.2))\n",
        "\n",
        "# Adding a second RNN layer and Dropout regularisation.\n",
        "model.add(SimpleRNN(units = 50,activation='tanh', return_sequences = True))\n",
        "model.add(Dropout(0.2))\n",
        "\n",
        "# Adding a third RNN layer and Dropout regularisation.\n",
        "model.add(SimpleRNN(units = 50,activation='tanh', return_sequences = True))\n",
        "model.add(Dropout(0.2))\n",
        "\n",
        "# Adding a fourth RNN layer and Dropout regularisation.\n",
        "model.add(SimpleRNN(units = 50))\n",
        "model.add(Dropout(0.2))\n",
        "\n",
        "# Adding the output layer\n",
        "model.add(Dense(units = 1))\n",
        "\n",
        "# Compiling the RNN\n",
        "model.compile(optimizer = 'adam', loss = 'mean_squared_error')\n",
        "\n",
        "# Fitting the RNN to the Training set\n",
        "simple_rnn_history = model.fit(X_train, y_train, epochs = 100, batch_size = 32)\n"
      ],
      "metadata": {
        "id": "DXWnD1JjLWMG",
        "colab": {
          "base_uri": "https://localhost:8080/"
        },
        "outputId": "2217dbd0-748a-4fbd-b31d-f95d4a41f34f"
      },
      "execution_count": 15,
      "outputs": [
        {
          "metadata": {
            "tags": null
          },
          "name": "stdout",
          "output_type": "stream",
          "text": [
            "Epoch 1/100\n",
            "74/74 [==============================] - 12s 54ms/step - loss: 0.2149\n",
            "Epoch 2/100\n",
            "74/74 [==============================] - 3s 40ms/step - loss: 0.0872\n",
            "Epoch 3/100\n",
            "74/74 [==============================] - 3s 40ms/step - loss: 0.0471\n",
            "Epoch 4/100\n",
            "74/74 [==============================] - 3s 34ms/step - loss: 0.0297\n",
            "Epoch 5/100\n",
            "74/74 [==============================] - 3s 35ms/step - loss: 0.0218\n",
            "Epoch 6/100\n",
            "74/74 [==============================] - 2s 20ms/step - loss: 0.0146\n",
            "Epoch 7/100\n",
            "74/74 [==============================] - 1s 19ms/step - loss: 0.0130\n",
            "Epoch 8/100\n",
            "74/74 [==============================] - 1s 18ms/step - loss: 0.0102\n",
            "Epoch 9/100\n",
            "74/74 [==============================] - 1s 19ms/step - loss: 0.0084\n",
            "Epoch 10/100\n",
            "74/74 [==============================] - 1s 19ms/step - loss: 0.0066\n",
            "Epoch 11/100\n",
            "74/74 [==============================] - 1s 19ms/step - loss: 0.0061\n",
            "Epoch 12/100\n",
            "74/74 [==============================] - 1s 19ms/step - loss: 0.0055\n",
            "Epoch 13/100\n",
            "74/74 [==============================] - 2s 29ms/step - loss: 0.0048\n",
            "Epoch 14/100\n",
            "74/74 [==============================] - 2s 24ms/step - loss: 0.0039\n",
            "Epoch 15/100\n",
            "74/74 [==============================] - 1s 19ms/step - loss: 0.0036\n",
            "Epoch 16/100\n",
            "74/74 [==============================] - 1s 19ms/step - loss: 0.0034\n",
            "Epoch 17/100\n",
            "74/74 [==============================] - 1s 19ms/step - loss: 0.0031\n",
            "Epoch 18/100\n",
            "74/74 [==============================] - 1s 19ms/step - loss: 0.0027\n",
            "Epoch 19/100\n",
            "74/74 [==============================] - 1s 19ms/step - loss: 0.0024\n",
            "Epoch 20/100\n",
            "74/74 [==============================] - 1s 19ms/step - loss: 0.0025\n",
            "Epoch 21/100\n",
            "74/74 [==============================] - 2s 26ms/step - loss: 0.0021\n",
            "Epoch 22/100\n",
            "74/74 [==============================] - 2s 27ms/step - loss: 0.0023\n",
            "Epoch 23/100\n",
            "74/74 [==============================] - 1s 19ms/step - loss: 0.0018\n",
            "Epoch 24/100\n",
            "74/74 [==============================] - 1s 18ms/step - loss: 0.0019\n",
            "Epoch 25/100\n",
            "74/74 [==============================] - 1s 19ms/step - loss: 0.0017\n",
            "Epoch 26/100\n",
            "74/74 [==============================] - 1s 19ms/step - loss: 0.0017\n",
            "Epoch 27/100\n",
            "74/74 [==============================] - 1s 19ms/step - loss: 0.0014\n",
            "Epoch 28/100\n",
            "74/74 [==============================] - 1s 18ms/step - loss: 0.0016\n",
            "Epoch 29/100\n",
            "74/74 [==============================] - 2s 21ms/step - loss: 0.0015\n",
            "Epoch 30/100\n",
            "74/74 [==============================] - 2s 32ms/step - loss: 0.0013\n",
            "Epoch 31/100\n",
            "74/74 [==============================] - 1s 19ms/step - loss: 0.0013\n",
            "Epoch 32/100\n",
            "74/74 [==============================] - 1s 19ms/step - loss: 0.0012\n",
            "Epoch 33/100\n",
            "74/74 [==============================] - 1s 19ms/step - loss: 0.0012\n",
            "Epoch 34/100\n",
            "74/74 [==============================] - 1s 19ms/step - loss: 0.0013\n",
            "Epoch 35/100\n",
            "74/74 [==============================] - 1s 19ms/step - loss: 0.0012\n",
            "Epoch 36/100\n",
            "74/74 [==============================] - 1s 19ms/step - loss: 0.0010\n",
            "Epoch 37/100\n",
            "74/74 [==============================] - 1s 19ms/step - loss: 0.0010\n",
            "Epoch 38/100\n",
            "74/74 [==============================] - 2s 32ms/step - loss: 0.0011\n",
            "Epoch 39/100\n",
            "74/74 [==============================] - 2s 21ms/step - loss: 0.0010\n",
            "Epoch 40/100\n",
            "74/74 [==============================] - 1s 19ms/step - loss: 8.3981e-04\n",
            "Epoch 41/100\n",
            "74/74 [==============================] - 1s 19ms/step - loss: 8.7015e-04\n",
            "Epoch 42/100\n",
            "74/74 [==============================] - 1s 19ms/step - loss: 9.1103e-04\n",
            "Epoch 43/100\n",
            "74/74 [==============================] - 1s 19ms/step - loss: 8.5341e-04\n",
            "Epoch 44/100\n",
            "74/74 [==============================] - 1s 19ms/step - loss: 7.6158e-04\n",
            "Epoch 45/100\n",
            "74/74 [==============================] - 1s 19ms/step - loss: 8.7141e-04\n",
            "Epoch 46/100\n",
            "74/74 [==============================] - 2s 27ms/step - loss: 8.7217e-04\n",
            "Epoch 47/100\n",
            "74/74 [==============================] - 2s 27ms/step - loss: 8.2711e-04\n",
            "Epoch 48/100\n",
            "74/74 [==============================] - 1s 19ms/step - loss: 6.6400e-04\n",
            "Epoch 49/100\n",
            "74/74 [==============================] - 1s 19ms/step - loss: 7.9308e-04\n",
            "Epoch 50/100\n",
            "74/74 [==============================] - 1s 19ms/step - loss: 6.8421e-04\n",
            "Epoch 51/100\n",
            "74/74 [==============================] - 2s 24ms/step - loss: 6.8564e-04\n",
            "Epoch 52/100\n",
            "74/74 [==============================] - 2s 30ms/step - loss: 8.0376e-04\n",
            "Epoch 53/100\n",
            "74/74 [==============================] - 2s 30ms/step - loss: 6.9690e-04\n",
            "Epoch 54/100\n",
            "74/74 [==============================] - 2s 28ms/step - loss: 6.5452e-04\n",
            "Epoch 55/100\n",
            "74/74 [==============================] - 1s 19ms/step - loss: 5.8691e-04\n",
            "Epoch 56/100\n",
            "74/74 [==============================] - 1s 19ms/step - loss: 6.4484e-04\n",
            "Epoch 57/100\n",
            "74/74 [==============================] - 1s 19ms/step - loss: 7.1620e-04\n",
            "Epoch 58/100\n",
            "74/74 [==============================] - 1s 19ms/step - loss: 5.6211e-04\n",
            "Epoch 59/100\n",
            "74/74 [==============================] - 1s 19ms/step - loss: 6.7895e-04\n",
            "Epoch 60/100\n",
            "74/74 [==============================] - 1s 19ms/step - loss: 6.8175e-04\n",
            "Epoch 61/100\n",
            "74/74 [==============================] - 2s 23ms/step - loss: 6.0560e-04\n",
            "Epoch 62/100\n",
            "74/74 [==============================] - 2s 31ms/step - loss: 6.1265e-04\n",
            "Epoch 63/100\n",
            "74/74 [==============================] - 1s 19ms/step - loss: 5.8630e-04\n",
            "Epoch 64/100\n",
            "74/74 [==============================] - 1s 19ms/step - loss: 6.1581e-04\n",
            "Epoch 65/100\n",
            "74/74 [==============================] - 1s 19ms/step - loss: 5.8442e-04\n",
            "Epoch 66/100\n",
            "74/74 [==============================] - 1s 18ms/step - loss: 5.4744e-04\n",
            "Epoch 67/100\n",
            "74/74 [==============================] - 1s 19ms/step - loss: 5.7003e-04\n",
            "Epoch 68/100\n",
            "74/74 [==============================] - 1s 19ms/step - loss: 4.8236e-04\n",
            "Epoch 69/100\n",
            "74/74 [==============================] - 1s 19ms/step - loss: 5.0195e-04\n",
            "Epoch 70/100\n",
            "74/74 [==============================] - 2s 32ms/step - loss: 5.2421e-04\n",
            "Epoch 71/100\n",
            "74/74 [==============================] - 2s 22ms/step - loss: 5.3766e-04\n",
            "Epoch 72/100\n",
            "74/74 [==============================] - 1s 19ms/step - loss: 5.4661e-04\n",
            "Epoch 73/100\n",
            "74/74 [==============================] - 1s 18ms/step - loss: 4.9903e-04\n",
            "Epoch 74/100\n",
            "74/74 [==============================] - 1s 20ms/step - loss: 5.7630e-04\n",
            "Epoch 75/100\n",
            "74/74 [==============================] - 1s 19ms/step - loss: 6.3579e-04\n",
            "Epoch 76/100\n",
            "74/74 [==============================] - 1s 19ms/step - loss: 5.8641e-04\n",
            "Epoch 77/100\n",
            "74/74 [==============================] - 1s 19ms/step - loss: 5.2118e-04\n",
            "Epoch 78/100\n",
            "74/74 [==============================] - 2s 29ms/step - loss: 5.1998e-04\n",
            "Epoch 79/100\n",
            "74/74 [==============================] - 2s 32ms/step - loss: 5.6824e-04\n",
            "Epoch 80/100\n",
            "74/74 [==============================] - 1s 19ms/step - loss: 5.8279e-04\n",
            "Epoch 81/100\n",
            "74/74 [==============================] - 2s 25ms/step - loss: 4.9795e-04\n",
            "Epoch 82/100\n",
            "74/74 [==============================] - 2s 29ms/step - loss: 4.9525e-04\n",
            "Epoch 83/100\n",
            "74/74 [==============================] - 1s 19ms/step - loss: 5.3694e-04\n",
            "Epoch 84/100\n",
            "74/74 [==============================] - 1s 19ms/step - loss: 5.1438e-04\n",
            "Epoch 85/100\n",
            "74/74 [==============================] - 2s 27ms/step - loss: 4.8101e-04\n",
            "Epoch 86/100\n",
            "74/74 [==============================] - 2s 27ms/step - loss: 5.3894e-04\n",
            "Epoch 87/100\n",
            "74/74 [==============================] - 1s 19ms/step - loss: 4.8056e-04\n",
            "Epoch 88/100\n",
            "74/74 [==============================] - 1s 19ms/step - loss: 4.7005e-04\n",
            "Epoch 89/100\n",
            "74/74 [==============================] - 1s 19ms/step - loss: 5.0972e-04\n",
            "Epoch 90/100\n",
            "74/74 [==============================] - 1s 19ms/step - loss: 5.8789e-04\n",
            "Epoch 91/100\n",
            "74/74 [==============================] - 1s 20ms/step - loss: 4.6948e-04\n",
            "Epoch 92/100\n",
            "74/74 [==============================] - 1s 19ms/step - loss: 5.0234e-04\n",
            "Epoch 93/100\n",
            "74/74 [==============================] - 2s 24ms/step - loss: 4.9264e-04\n",
            "Epoch 94/100\n",
            "74/74 [==============================] - 2s 29ms/step - loss: 4.7947e-04\n",
            "Epoch 95/100\n",
            "74/74 [==============================] - 1s 19ms/step - loss: 5.5747e-04\n",
            "Epoch 96/100\n",
            "74/74 [==============================] - 1s 19ms/step - loss: 4.5737e-04\n",
            "Epoch 97/100\n",
            "74/74 [==============================] - 1s 19ms/step - loss: 4.6876e-04\n",
            "Epoch 98/100\n",
            "74/74 [==============================] - 1s 19ms/step - loss: 5.0310e-04\n",
            "Epoch 99/100\n",
            "74/74 [==============================] - 1s 19ms/step - loss: 4.5460e-04\n",
            "Epoch 100/100\n",
            "74/74 [==============================] - 1s 19ms/step - loss: 4.8975e-04\n"
          ]
        }
      ]
    },
    {
      "cell_type": "code",
      "source": [
        "# Plotting Loss vs Epochs\n",
        "plt.figure(figsize =(10,7))\n",
        "plt.plot(simple_rnn_history.history[\"loss\"])\n",
        "plt.xlabel(\"Epochs\")\n",
        "plt.ylabel(\"Losses\")\n",
        "plt.title(\"Simple RNN model, Loss vs Epoch\")\n",
        "plt.show()"
      ],
      "metadata": {
        "id": "v3a7WK5TNWO6",
        "colab": {
          "base_uri": "https://localhost:8080/",
          "height": 650
        },
        "outputId": "36874fd3-b049-46ad-bdc6-3eced76a0707"
      },
      "execution_count": 16,
      "outputs": [
        {
          "output_type": "display_data",
          "data": {
            "text/plain": [
              "<Figure size 1000x700 with 1 Axes>"
            ],
            "image/png": "[encoded data removed]"
          },
          "metadata": {}
        }
      ]
    },
    {
      "cell_type": "code",
      "source": [
        "predicted_data_valid = model.predict(X_valid)\n",
        "predicted_data_valid = min_max_scaler.inverse_transform(predicted_data_valid)\n",
        "valid = min_max_scaler.inverse_transform(valid)"
      ],
      "metadata": {
        "id": "aeoqZeyhNmv7",
        "colab": {
          "base_uri": "https://localhost:8080/"
        },
        "outputId": "4b56fb44-9be1-46cd-e1c5-99d5f2874df1"
      },
      "execution_count": 17,
      "outputs": [
        {
          "output_type": "stream",
          "name": "stdout",
          "text": [
            "10/10 [==============================] - 1s 6ms/step\n"
          ]
        }
      ]
    },
    {
      "cell_type": "code",
      "source": [
        "rmse = np.sqrt(np.mean(((predicted_data_valid - valid) ** 2)))\n",
        "print(\"rmse validation set: \", rmse)"
      ],
      "metadata": {
        "id": "W3QfgoncaeTs",
        "colab": {
          "base_uri": "https://localhost:8080/"
        },
        "outputId": "881b1a67-bf0c-45e3-e1c6-12be49e4417f"
      },
      "execution_count": 18,
      "outputs": [
        {
          "output_type": "stream",
          "name": "stdout",
          "text": [
            "rmse validation set:  8.613380199238328\n"
          ]
        }
      ]
    },
    {
      "cell_type": "code",
      "source": [
        "plt.figure(figsize=(8,4), dpi=80, facecolor='w', edgecolor='k')\n",
        "plt.plot(valid,color=\"orange\",label=\"Real value\")\n",
        "plt.plot(predicted_data_valid,color=\"c\",label=\"RNN predicted result\")\n",
        "plt.legend()\n",
        "plt.xlabel(\"Days\")\n",
        "plt.ylabel(\"Values\")\n",
        "plt.grid(True)\n",
        "plt.show()"
      ],
      "metadata": {
        "id": "b-qJTH_5nKsF",
        "colab": {
          "base_uri": "https://localhost:8080/",
          "height": 320
        },
        "outputId": "355b2bdc-9f9e-469d-9d1f-a04b0871994e"
      },
      "execution_count": 19,
      "outputs": [
        {
          "output_type": "display_data",
          "data": {
            "text/plain": [
              "<Figure size 640x320 with 1 Axes>"
            ],
            "image/png": "[encoded data removed]"
          },
          "metadata": {}
        }
      ]
    },
    {
      "cell_type": "markdown",
      "source": [
        "# Creating LSTM Model"
      ],
      "metadata": {
        "id": "Lg2wHlMRs1fB"
      }
    },
    {
      "cell_type": "code",
      "source": [
        "from keras.models import Sequential\n",
        "from keras.layers import Dense\n",
        "from keras.layers import LSTM\n",
        "from sklearn.preprocessing import MinMaxScaler\n",
        "from sklearn.metrics import mean_squared_error\n",
        "\n",
        "model1 = Sequential()\n",
        "model1.add(LSTM(10, input_shape=(None,1)))\n",
        "model1.add(Dense(1))\n",
        "model1.compile(loss=\"mean_squared_error\",optimizer='Adam')\n",
        "lstm_history=model1.fit(X_train,y_train,epochs=50, batch_size=1)"
      ],
      "metadata": {
        "id": "MZpJQFdHsiZD",
        "colab": {
          "base_uri": "https://localhost:8080/"
        },
        "outputId": "a0fa679b-ec36-499f-ff0c-ab964b481c91"
      },
      "execution_count": null,
      "outputs": [
        {
          "output_type": "stream",
          "name": "stdout",
          "text": [
            "Epoch 1/50\n",
            "2367/2367 [==============================] - 14s 5ms/step - loss: 0.0029\n",
            "Epoch 2/50\n",
            "2367/2367 [==============================] - 12s 5ms/step - loss: 2.1098e-04\n",
            "Epoch 3/50\n",
            "2367/2367 [==============================] - 13s 6ms/step - loss: 1.6570e-04\n",
            "Epoch 4/50\n",
            "2367/2367 [==============================] - 12s 5ms/step - loss: 1.2910e-04\n",
            "Epoch 5/50\n",
            "2367/2367 [==============================] - 12s 5ms/step - loss: 1.0408e-04\n",
            "Epoch 6/50\n",
            "2367/2367 [==============================] - 13s 5ms/step - loss: 8.3334e-05\n",
            "Epoch 7/50\n",
            "2367/2367 [==============================] - 12s 5ms/step - loss: 6.4881e-05\n",
            "Epoch 8/50\n",
            "2367/2367 [==============================] - 12s 5ms/step - loss: 6.3390e-05\n",
            "Epoch 9/50\n",
            "2367/2367 [==============================] - 12s 5ms/step - loss: 5.7830e-05\n",
            "Epoch 10/50\n",
            "2367/2367 [==============================] - 13s 5ms/step - loss: 5.8579e-05\n",
            "Epoch 11/50\n",
            "2367/2367 [==============================] - 14s 6ms/step - loss: 5.6462e-05\n",
            "Epoch 12/50\n",
            "2367/2367 [==============================] - 12s 5ms/step - loss: 5.5492e-05\n",
            "Epoch 13/50\n",
            "2367/2367 [==============================] - 12s 5ms/step - loss: 5.8942e-05\n",
            "Epoch 14/50\n",
            "2367/2367 [==============================] - 13s 5ms/step - loss: 5.2946e-05\n",
            "Epoch 15/50\n",
            "2367/2367 [==============================] - 12s 5ms/step - loss: 5.7701e-05\n",
            "Epoch 16/50\n",
            "2367/2367 [==============================] - 13s 5ms/step - loss: 5.5101e-05\n",
            "Epoch 17/50\n",
            "2367/2367 [==============================] - 13s 5ms/step - loss: 5.4243e-05\n",
            "Epoch 18/50\n",
            "2367/2367 [==============================] - 12s 5ms/step - loss: 5.6145e-05\n",
            "Epoch 19/50\n",
            "2367/2367 [==============================] - 12s 5ms/step - loss: 5.3894e-05\n",
            "Epoch 20/50\n",
            "2367/2367 [==============================] - 12s 5ms/step - loss: 5.0729e-05\n",
            "Epoch 21/50\n",
            "2367/2367 [==============================] - 12s 5ms/step - loss: 5.4213e-05\n",
            "Epoch 22/50\n",
            "2367/2367 [==============================] - 12s 5ms/step - loss: 5.1807e-05\n",
            "Epoch 23/50\n",
            "2367/2367 [==============================] - 12s 5ms/step - loss: 5.2444e-05\n",
            "Epoch 24/50\n",
            "2367/2367 [==============================] - 12s 5ms/step - loss: 5.2354e-05\n",
            "Epoch 25/50\n",
            "2367/2367 [==============================] - 12s 5ms/step - loss: 5.3446e-05\n",
            "Epoch 26/50\n",
            "2367/2367 [==============================] - 12s 5ms/step - loss: 5.2362e-05\n",
            "Epoch 27/50\n",
            "2367/2367 [==============================] - 13s 5ms/step - loss: 5.1458e-05\n",
            "Epoch 28/50\n",
            "2367/2367 [==============================] - 12s 5ms/step - loss: 5.3783e-05\n",
            "Epoch 29/50\n",
            "2367/2367 [==============================] - 13s 5ms/step - loss: 5.1721e-05\n",
            "Epoch 30/50\n",
            "2367/2367 [==============================] - 12s 5ms/step - loss: 5.0384e-05\n",
            "Epoch 31/50\n",
            "2367/2367 [==============================] - 12s 5ms/step - loss: 5.1253e-05\n",
            "Epoch 32/50\n",
            "2367/2367 [==============================] - 12s 5ms/step - loss: 5.2406e-05\n",
            "Epoch 33/50\n",
            "2367/2367 [==============================] - 13s 5ms/step - loss: 5.2032e-05\n",
            "Epoch 34/50\n",
            "2367/2367 [==============================] - 12s 5ms/step - loss: 4.9962e-05\n",
            "Epoch 35/50\n",
            "2367/2367 [==============================] - 13s 5ms/step - loss: 5.3327e-05\n",
            "Epoch 36/50\n",
            "2367/2367 [==============================] - 12s 5ms/step - loss: 5.1442e-05\n",
            "Epoch 37/50\n",
            "2021/2367 [========================>.....] - ETA: 1s - loss: 5.3030e-05"
          ]
        }
      ]
    },
    {
      "cell_type": "code",
      "source": [
        "plt.figure(figsize =(10,5))\n",
        "plt.plot(lstm_history.history[\"loss\"])\n",
        "plt.xlabel(\"Epochs\")\n",
        "plt.ylabel(\"Losses\")\n",
        "plt.title(\"LSTM model, Loss vs Epoch\")\n",
        "plt.show()"
      ],
      "metadata": {
        "id": "Dh_MrEj-snCv"
      },
      "execution_count": null,
      "outputs": []
    },
    {
      "cell_type": "code",
      "source": [
        "predicted_data_valid2=model1.predict(X_valid)\n",
        "predicted_data_valid2=min_max_scaler.inverse_transform(predicted_data_valid2)"
      ],
      "metadata": {
        "id": "-sIxppqYsprx"
      },
      "execution_count": null,
      "outputs": []
    },
    {
      "cell_type": "code",
      "source": [
        "rmse = np.sqrt(np.mean(((predicted_data_valid2 - valid) ** 2)))\n",
        "print(\"rmse validation set: \", rmse)"
      ],
      "metadata": {
        "id": "-negGM9oazxb"
      },
      "execution_count": null,
      "outputs": []
    },
    {
      "cell_type": "code",
      "source": [
        "plt.figure(figsize=(8,4), dpi=80, facecolor='w', edgecolor='k')\n",
        "plt.plot(valid,color=\"LimeGreen\",label=\"Real values\")\n",
        "plt.plot(predicted_data_valid2,color=\"Gold\",label=\"Predicted LSTM result\")\n",
        "plt.legend()\n",
        "plt.xlabel(\"Days\")\n",
        "plt.ylabel(\"Values\")\n",
        "plt.grid(True)\n",
        "plt.show()"
      ],
      "metadata": {
        "id": "yXthQmddstfB"
      },
      "execution_count": null,
      "outputs": []
    },
    {
      "cell_type": "markdown",
      "source": [
        "# Comparetive Study of RNN predictions and LSTM predictions"
      ],
      "metadata": {
        "id": "4OimSBsssv5G"
      }
    },
    {
      "cell_type": "code",
      "source": [
        "plt.figure(figsize=(8,4), dpi=80, facecolor='w', edgecolor='k')\n",
        "plt.plot(valid,color=\"green\", linestyle='dashed',label=\"Real values\")\n",
        "plt.plot(predicted_data_valid2,color=\"blue\", label=\"LSTM predicted result\")\n",
        "plt.plot(predicted_data_valid,color=\"red\",label=\"RNN predicted result\") #\n",
        "plt.legend()\n",
        "plt.xlabel(\"Days)\")\n",
        "plt.ylabel(\"Real values\")\n",
        "plt.grid(True)\n",
        "plt.show()"
      ],
      "metadata": {
        "id": "BJ0ILJVysvaK"
      },
      "execution_count": null,
      "outputs": []
    },
    {
      "cell_type": "markdown",
      "source": [
        "Applying the best model to test set"
      ],
      "metadata": {
        "id": "LerBqaaOa9Vd"
      }
    },
    {
      "cell_type": "code",
      "source": [
        "predicted_test=model1.predict(X_test)\n",
        "predicted_test=min_max_scaler.inverse_transform(predicted_test)"
      ],
      "metadata": {
        "id": "vB2WS1FsbBBX"
      },
      "execution_count": null,
      "outputs": []
    },
    {
      "cell_type": "code",
      "source": [
        "rmse = np.sqrt(np.mean(((predicted_test - test) ** 2)))\n",
        "print(\"rmse validation set: \", rmse)"
      ],
      "metadata": {
        "id": "theoHXL8cX72"
      },
      "execution_count": null,
      "outputs": []
    },
    {
      "cell_type": "code",
      "source": [
        "plt.figure(figsize=(8,4), dpi=80, facecolor='w', edgecolor='k')\n",
        "plt.plot(valid,color=\"LimeGreen\",label=\"Real values\")\n",
        "plt.plot(predicted_data_valid2,color=\"Gold\",label=\"Predicted LSTM result\")\n",
        "plt.legend()\n",
        "plt.xlabel(\"Days\")\n",
        "plt.ylabel(\"Values\")\n",
        "plt.grid(True)\n",
        "plt.show()"
      ],
      "metadata": {
        "id": "IDsiqwb8bOHq"
      },
      "execution_count": null,
      "outputs": []
    }
  ]
}